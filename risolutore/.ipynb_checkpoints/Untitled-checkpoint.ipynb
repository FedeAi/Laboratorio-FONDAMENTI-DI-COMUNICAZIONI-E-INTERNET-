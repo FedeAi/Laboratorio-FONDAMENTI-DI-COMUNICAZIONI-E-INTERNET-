{
 "cells": [
  {
   "cell_type": "code",
   "execution_count": 90,
   "metadata": {},
   "outputs": [],
   "source": [
    "import math\n",
    "def tempo_trasmissione(L,R):\n",
    "    return L/R\n",
    "def ritardo_propagazione(dist, v = 300000000):\n",
    "    return dist/v\n",
    "\n",
    "def communication_delay(L,Rab,dist = 0, v = 3e8):\n",
    "    T = tempo_trasmissione(L,Rab)\n",
    "    tau = ritardo_propagazione(dist, v)\n",
    "    return T + tau\n",
    "\n",
    "def livelli_quant(bits):\n",
    "    return math.pow(2,bits)\n",
    "\n",
    "def bits_quant(levels):\n",
    "    return math.log2(levels)\n",
    "\n",
    "def attenuazione_db(Pi, Po):\n",
    "    return 10 * math.log10(Po/pi)\n",
    "\n",
    "def C_canale(B,S,N):\n",
    "    return B * math.log2(1 + S/N)\n",
    "\n",
    "def digital_signal_rate(fc, n_bits_x_liv):\n",
    "    return fc * n_bits_x_liv\n",
    "\n",
    "def packet_rate(digital_signal_rate, header, L):\n",
    "    Rp = digital_signal_rate / L\n",
    "    return Rp * (header + L)"
   ]
  },
  {
   "cell_type": "code",
   "execution_count": 91,
   "metadata": {},
   "outputs": [
    {
     "data": {
      "text/plain": [
       "32.0"
      ]
     },
     "execution_count": 91,
     "metadata": {},
     "output_type": "execute_result"
    }
   ],
   "source": [
    "math.pow(2,5)"
   ]
  },
  {
   "cell_type": "code",
   "execution_count": 92,
   "metadata": {},
   "outputs": [
    {
     "data": {
      "text/plain": [
       "396000.0"
      ]
     },
     "execution_count": 92,
     "metadata": {},
     "output_type": "execute_result"
    }
   ],
   "source": [
    "l = 512\n",
    "L = 1000 * 8\n",
    "h = 60 * 8\n",
    "B = 22 * 1000\n",
    "\n",
    "dr = digital_signal_rate(2*B, bits_quant(l))\n",
    "dr"
   ]
  },
  {
   "cell_type": "code",
   "execution_count": 93,
   "metadata": {},
   "outputs": [
    {
     "data": {
      "text/plain": [
       "419760.0"
      ]
     },
     "execution_count": 93,
     "metadata": {},
     "output_type": "execute_result"
    }
   ],
   "source": [
    "packet_rate(dr,h,L)"
   ]
  },
  {
   "cell_type": "code",
   "execution_count": 94,
   "metadata": {},
   "outputs": [],
   "source": [
    "dr = digital_signal_rate(50, 640*480*3 *24)"
   ]
  },
  {
   "cell_type": "code",
   "execution_count": 95,
   "metadata": {},
   "outputs": [],
   "source": [
    "fc = 640*480*3 * 50"
   ]
  },
  {
   "cell_type": "code",
   "execution_count": 96,
   "metadata": {},
   "outputs": [],
   "source": [
    "B_1_c = fc/3/2"
   ]
  },
  {
   "cell_type": "code",
   "execution_count": 97,
   "metadata": {},
   "outputs": [
    {
     "data": {
      "text/plain": [
       "23040000.0"
      ]
     },
     "execution_count": 97,
     "metadata": {},
     "output_type": "execute_result"
    }
   ],
   "source": [
    "B_1_c*3"
   ]
  },
  {
   "cell_type": "code",
   "execution_count": 98,
   "metadata": {},
   "outputs": [
    {
     "data": {
      "text/plain": [
       "0.1005"
      ]
     },
     "execution_count": 98,
     "metadata": {},
     "output_type": "execute_result"
    }
   ],
   "source": [
    "communication_delay(10000,100e3,100e3, 200e6)"
   ]
  },
  {
   "cell_type": "code",
   "execution_count": 166,
   "metadata": {},
   "outputs": [],
   "source": [
    "class Packet:\n",
    "    def __init__(self,L = 0, id_ = 0, path = []):\n",
    "        self.L = L\n",
    "        self.id = id_\n",
    "        self.path = path\n",
    "        self.local_path_memory = path\n",
    "        self.time = 0\n",
    "    def run(self):\n",
    "        for node in self.local_path_memory:\n",
    "            node.receive(self, next_node = node.name)\n",
    "        print(\"id: \", self.id)\n",
    "        print(\"time:\")\n",
    "        print(self.time)\n",
    "        print(\"time[ms]:\")\n",
    "        print(self.time*1000)\n",
    "        print(\" \")\n",
    "class Node:\n",
    "    def __init__(self, rate = 0, tau= 0, name = \"\"):\n",
    "        self.exit_tail = {}\n",
    "        self.rate = rate\n",
    "        self.tau = tau\n",
    "        self.name = name\n",
    "    def receive(self, paket = Packet(), next_node = \"\"):\n",
    "        try:\n",
    "            \n",
    "            if next_node in self.exit_tail.keys():\n",
    "\n",
    "                if paket.time < self.exit_tail[next_node]:\n",
    "                    paket.time = self.exit_tail[next_node]\n",
    "                self.exit_tail[next_node] = paket.time + tempo_trasmissione(paket.L,self.rate) \n",
    "                \n",
    "            else:\n",
    "                self.exit_tail[next_node] = paket.time + tempo_trasmissione(paket.L,self.rate) \n",
    "                \n",
    "            paket.time = self.exit_tail[next_node] + self.tau\n",
    "        except:\n",
    "            print(\"error\")\n",
    "            "
   ]
  },
  {
   "cell_type": "code",
   "execution_count": 187,
   "metadata": {},
   "outputs": [
    {
     "name": "stdout",
     "output_type": "stream",
     "text": [
      "id:  3\n",
      "time:\n",
      "0.0007999999999999999\n",
      "time[ms]:\n",
      "0.7999999999999999\n",
      " \n",
      "id:  1\n",
      "time:\n",
      "0.0015999999999999999\n",
      "time[ms]:\n",
      "1.5999999999999999\n",
      " \n",
      "id:  2\n",
      "time:\n",
      "0.0017000000000000001\n",
      "time[ms]:\n",
      "1.7000000000000002\n",
      " \n",
      "id:  4\n",
      "time:\n",
      "0.0014\n",
      "time[ms]:\n",
      "1.4\n",
      " \n"
     ]
    },
    {
     "data": {
      "text/plain": [
       "0.0015999999999999999"
      ]
     },
     "execution_count": 187,
     "metadata": {},
     "output_type": "execute_result"
    }
   ],
   "source": [
    "n1 = Node(rate = 20e6, tau = 1e-3, name = \"a\")\n",
    "s1 = Node(rate = 20e6, tau = 0.2e-3, name = \"s1\")\n",
    "n2 = Node(rate = 10e6, tau = 0.1e-3, name = \"b\")\n",
    "n3 = Node(rate = 5e6, tau = 0.1e-3, name = \"c\")\n",
    "n4 = Node(rate = 5e6, tau = 0.2e-3, name = \"d\")\n",
    "n5 = Node(rate = 20e6, tau = 0.2e-3, name = \"e\")\n",
    "\"\"\"\n",
    "p1 = Packet(L=1500*8,id_=1, path = [n2, n3])\n",
    "p2 = Packet(L=250*8,id_=2, path = [n2, n3])\n",
    "p3 = Packet(L=1500*8,id_=3, path = [n2,n4,n5])\n",
    "p4 = Packet(L=1500*8,id_=4, path = [n2,n4,n5])\n",
    "\"\"\"\n",
    "p1 = Packet(L=1500*8,id_=1, path = [n1])\n",
    "p2 = Packet(L=250*8,id_=2, path = [n1])\n",
    "p3 = Packet(L=1500*8,id_=3, path = [s1])\n",
    "p4 = Packet(L=1500*8,id_=4, path = [s1])\n",
    "\n",
    "p5 = Packet(L=512,id_=5, path = [n1, n5])\n",
    "p6 = Packet(L=512,id_=6, path = [n1, n5])\n",
    "\n",
    "p3.run()\n",
    "\n",
    "p1.run()\n",
    "\n",
    "p2.run()\n",
    "\n",
    "p4.run()\n",
    "\n",
    "\"\"\"\n",
    "n1.receive(p1,\"a\")\n",
    "n1.receive(p2,\"a\")\n",
    "n2.receive(p1,\"b\")\n",
    "n2.receive(p2,\"b\")\n",
    "n3.receive(p1,\"c\")\n",
    "n3.receive(p2,\"c\")\"\"\"\n",
    "\n",
    "p1.time\n",
    "#p2.time"
   ]
  },
  {
   "cell_type": "code",
   "execution_count": 183,
   "metadata": {},
   "outputs": [
    {
     "data": {
      "text/plain": [
       "5.48"
      ]
     },
     "execution_count": 183,
     "metadata": {},
     "output_type": "execute_result"
    }
   ],
   "source": [
    "4.69+0.79"
   ]
  },
  {
   "cell_type": "code",
   "execution_count": 184,
   "metadata": {},
   "outputs": [
    {
     "data": {
      "text/plain": [
       "6.59"
      ]
     },
     "execution_count": 184,
     "metadata": {},
     "output_type": "execute_result"
    }
   ],
   "source": [
    "1.59+5"
   ]
  },
  {
   "cell_type": "code",
   "execution_count": 185,
   "metadata": {},
   "outputs": [
    {
     "data": {
      "text/plain": [
       "7.1000000000000005"
      ]
     },
     "execution_count": 185,
     "metadata": {},
     "output_type": "execute_result"
    }
   ],
   "source": [
    "1.7 + 5.4"
   ]
  },
  {
   "cell_type": "code",
   "execution_count": 186,
   "metadata": {},
   "outputs": [
    {
     "data": {
      "text/plain": [
       "8.69"
      ]
     },
     "execution_count": 186,
     "metadata": {},
     "output_type": "execute_result"
    }
   ],
   "source": [
    "1.4 +7.29"
   ]
  },
  {
   "cell_type": "code",
   "execution_count": 12,
   "metadata": {},
   "outputs": [
    {
     "name": "stdout",
     "output_type": "stream",
     "text": [
      "waits: []\n",
      "received: 0, dropped 13, sent 13\n"
     ]
    }
   ],
   "source": [
    "import simpy\n",
    "from SimComponents import PacketGenerator, PacketSink, SwitchPort\n",
    "\n",
    "def constArrival():\n",
    "    return 1.5    # time interval\n",
    "\n",
    "def constSize():\n",
    "    return 10000.0  # bytes\n",
    "\n",
    "env = simpy.Environment()  # Create the SimPy environment\n",
    "ps = PacketSink(env, debug=True) # debug: every packet arrival is printed\n",
    "pg = PacketGenerator(env, \"SJSU\", constArrival, constSize)\n",
    "switch_port = SwitchPort(env, rate=100000, qlimit=1000)\n",
    "# Wire packet generators and sinks together\n",
    "pg.out = switch_port\n",
    "switch_port.out = ps\n",
    "env.run(until=20)\n",
    "print(\"waits: {}\".format(ps.waits))\n",
    "print(\"received: {}, dropped {}, sent {}\".format(ps.packets_rec,\n",
    "     switch_port.packets_drop, pg.packets_sent))"
   ]
  },
  {
   "cell_type": "code",
   "execution_count": 68,
   "metadata": {},
   "outputs": [],
   "source": [
    "a = {\"aa\":5}"
   ]
  },
  {
   "cell_type": "code",
   "execution_count": 69,
   "metadata": {},
   "outputs": [],
   "source": [
    "a[\"b\"] = 5"
   ]
  },
  {
   "cell_type": "code",
   "execution_count": 70,
   "metadata": {},
   "outputs": [
    {
     "data": {
      "text/plain": [
       "{'aa': 5, 'b': 5}"
      ]
     },
     "execution_count": 70,
     "metadata": {},
     "output_type": "execute_result"
    }
   ],
   "source": [
    "a"
   ]
  },
  {
   "cell_type": "code",
   "execution_count": null,
   "metadata": {},
   "outputs": [],
   "source": []
  }
 ],
 "metadata": {
  "kernelspec": {
   "display_name": "Python 3.6.9 64-bit ('net': venv)",
   "language": "python",
   "name": "python36964bitnetvenv31e7f89e4e074b81aad108d3333ae6ef"
  },
  "language_info": {
   "codemirror_mode": {
    "name": "ipython",
    "version": 3
   },
   "file_extension": ".py",
   "mimetype": "text/x-python",
   "name": "python",
   "nbconvert_exporter": "python",
   "pygments_lexer": "ipython3",
   "version": "3.6.9"
  }
 },
 "nbformat": 4,
 "nbformat_minor": 2
}
